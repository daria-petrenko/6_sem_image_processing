{
 "cells": [
  {
   "cell_type": "code",
   "execution_count": null,
   "metadata": {},
   "outputs": [],
   "source": [
    "import cv2\n",
    "import numpy as np\n",
    "import matplotlib.pyplot as plt\n",
    "import skimage.morphology as morphology\n",
    "import skimage.measure as measure\n",
    "\n",
    "%matplotlib inline"
   ]
  },
  {
   "cell_type": "code",
   "execution_count": null,
   "metadata": {},
   "outputs": [],
   "source": [
    "def read_img(img_num):\n",
    "    path = #insert path to data\n",
    "    img_name = str(img_num) + '.jpg'\n",
    "    img = cv2.imread(path + img_name, cv2.IMREAD_GRAYSCALE)\n",
    "    return img"
   ]
  },
  {
   "cell_type": "code",
   "execution_count": null,
   "metadata": {},
   "outputs": [],
   "source": [
    "def find_graph_structure(img_num):\n",
    "    img = read_img(img_num)\n",
    "    # бинаризуем изображение по порогу\n",
    "    _, threshold = cv2.threshold(img, 80, 1, type=cv2.THRESH_BINARY_INV)\n",
    "    # удалим ошибочно определяемые как части графа затемнения по краям изображения\n",
    "    threshold[:20, :] = 0\n",
    "    threshold[-20:, :] = 0\n",
    "    threshold[:, :20] = 0\n",
    "    threshold[:, -20:] = 0\n",
    "    # применим операцию замыкания, чтобы удалить небольшие промежутки в получившемся контуре графа                             \n",
    "    convex_threshold = morphology.binary_closing(threshold, morphology.star(10))\n",
    "    # построим скелет \n",
    "    skeleton = morphology.skeletonize(convex_threshold)\n",
    "    skeleton = skeleton.astype(np.uint8)\n",
    "    # сделаем контур скелета более широким, чтобы корректно работала операция поиска контуров на изображении\n",
    "    convex_skeleton = morphology.dilation(skeleton, morphology.disk(3))\n",
    "    cnts, _ = cv2.findContours(convex_skeleton.copy(), cv2.RETR_LIST, cv2.CHAIN_APPROX_SIMPLE)[-2:]\n",
    "    # удалим ошибочно найденные контуры маленького периметра\n",
    "    for i in range(len(cnts) - 1, -1, -1):\n",
    "        if cv2.arcLength(cnts[i], False) < 100:\n",
    "            del cnts[i]\n",
    "    if(len(cnts) == 6):\n",
    "        print('Граф класса 3')\n",
    "    elif(len(cnts) == 5):\n",
    "        print('Граф класса 1')\n",
    "    else:\n",
    "        sum_img = np.zeros((img.shape[0], img.shape[1]))\n",
    "        for ind in range(len(cnts)):\n",
    "            blank_img = np.zeros((img.shape[0], img.shape[1]))\n",
    "            cv2.drawContours(blank_img, cnts, ind, 1, 10)\n",
    "            sum_img += blank_img\n",
    "        _, inside_borders = cv2.threshold(sum_img, 1, 1, type=cv2.THRESH_BINARY)\n",
    "        inside_borders = morphology.dilation(inside_borders, morphology.disk(20))\n",
    "        convex_skeleton[inside_borders.astype(bool)] = 0\n",
    "        # найдем компоненты связности\n",
    "        labels, num = measure.label(convex_skeleton, return_num=True)\n",
    "        # не будем учитывать случайный мусор - компоненты небольшого размера\n",
    "        counter = 0\n",
    "        for i in range(1, num + 2):\n",
    "            if np.sum(labels == i) > 200:\n",
    "                counter += 1\n",
    "        if(counter == 4):\n",
    "            print('Граф класса 2')\n",
    "        elif(counter == 5):\n",
    "            print('Граф класса 4')"
   ]
  },
  {
   "cell_type": "code",
   "execution_count": null,
   "metadata": {},
   "outputs": [],
   "source": []
  }
 ],
 "metadata": {
  "kernelspec": {
   "display_name": "Python 3",
   "language": "python",
   "name": "python3"
  },
  "language_info": {
   "codemirror_mode": {
    "name": "ipython",
    "version": 3
   },
   "file_extension": ".py",
   "mimetype": "text/x-python",
   "name": "python",
   "nbconvert_exporter": "python",
   "pygments_lexer": "ipython3",
   "version": "3.7.3"
  }
 },
 "nbformat": 4,
 "nbformat_minor": 2
}
