{
 "cells": [
  {
   "cell_type": "code",
   "execution_count": null,
   "metadata": {},
   "outputs": [],
   "source": [
    "import matplotlib.pyplot as plt\n",
    "import numpy as np\n",
    "import cv2\n",
    "import skimage.measure as measure\n",
    "import skimage.morphology as morphology\n",
    "import skimage.segmentation as segmentation"
   ]
  },
  {
   "cell_type": "code",
   "execution_count": null,
   "metadata": {},
   "outputs": [],
   "source": [
    "# перевод изображения из формата bgr в rgb и отображение на экране\n",
    "def show_plt(img):\n",
    "    b,g,r = cv2.split(img)  \n",
    "    img2 = cv2.merge([r,g,b])\n",
    "    plt.imshow(img2)"
   ]
  },
  {
   "cell_type": "code",
   "execution_count": null,
   "metadata": {},
   "outputs": [],
   "source": [
    "# перевод изображения из формата bgr в rgb и сохранение в файл \n",
    "def save_plt(filename, img):\n",
    "    b,g,r = cv2.split(img)  \n",
    "    img2 = cv2.merge([r,g,b])\n",
    "    plt.imsave(filename, img2)"
   ]
  },
  {
   "cell_type": "code",
   "execution_count": null,
   "metadata": {},
   "outputs": [],
   "source": [
    "# вычисление евклидова расстояния между векторами\n",
    "def eucl_dist(vec_1, vec_2):  \n",
    "    return np.sqrt(np.sum((vec_1 - vec_2) ** 2))"
   ]
  },
  {
   "cell_type": "code",
   "execution_count": null,
   "metadata": {},
   "outputs": [],
   "source": [
    "# образцы цветов, используемых в фишках; взяты с одного из изображений\n",
    "col_sample = np.array([  \n",
    "    [18, 30, 162], # red\n",
    "    [60, 49, 57],  # blue\n",
    "    [ 12, 134, 194], # yellow\n",
    "    [32, 45, 61] # black\n",
    "])"
   ]
  },
  {
   "cell_type": "code",
   "execution_count": null,
   "metadata": {},
   "outputs": [],
   "source": [
    "# функция возвращает номер в массиве col_sample цвета, наиболее близкого к входным данным \n",
    "# по евклидовой метрике\n",
    "def get_color(curr_col):  \n",
    "    return np.argmin(np.array([\n",
    "            eucl_dist(curr_col, col_sample[0]),\n",
    "            eucl_dist(curr_col, col_sample[1]), \n",
    "            eucl_dist(curr_col, col_sample[2]),\n",
    "            eucl_dist(curr_col, col_sample[3])]))"
   ]
  },
  {
   "cell_type": "code",
   "execution_count": null,
   "metadata": {},
   "outputs": [],
   "source": [
    "# элемент массива описывает форму сегментов каждого из 3-х цветов на фишках указанных справа номеров \n",
    "# (есть несколько пар фишек, типы линий на которых совпадают)\n",
    "# порядок цветов сегментов: [красный, синий, желтый]\n",
    "# номером 1 обозначается короткая дуга, 2 - длинная дуга, 3 - прямая линия\n",
    "shapes_sample = np.array([[2, 2, 1], # 1, 10\n",
    "                          [1, 3, 1], # 2\n",
    "                          [1, 1, 1], # 3\n",
    "                          [2, 3, 2], # 4\n",
    "                          [3, 1, 1], # 5\n",
    "                          [2, 2, 3], # 6\n",
    "                          [2, 1, 2], # 7, 8\n",
    "                          [3, 2, 2], # 9\n",
    "                         ])"
   ]
  },
  {
   "cell_type": "code",
   "execution_count": null,
   "metadata": {},
   "outputs": [],
   "source": [
    "path = # insert path to data \n",
    "img_name = # insert image name\n",
    "part_of_task = # insert number of task: 1 or 2\n",
    "\n",
    "# для удобства дальнейшей обработки считываем изображение в цветном и черно-белом вариантах\n",
    "img_gray = cv2.imread(path + img_name, cv2.IMREAD_GRAYSCALE)\n",
    "img_color = cv2.imread(path + img_name, cv2.IMREAD_COLOR)"
   ]
  },
  {
   "cell_type": "code",
   "execution_count": null,
   "metadata": {},
   "outputs": [],
   "source": [
    "# бинаризация изображения с использованием порогового значения\n",
    "_, threshold = cv2.threshold(img_gray, 100, 1, type=cv2.THRESH_BINARY)\n",
    "threshold = np.logical_not(threshold)\n",
    "plt.imshow(threshold, cmap='gray')"
   ]
  },
  {
   "cell_type": "markdown",
   "metadata": {},
   "source": [
    "Построим маску: пикселям каждой компоненты связности присвоим свое уникальное значение, одинаковое внутри одной компоненты связности и различное для разных компонент. В аргумент num записывается количество компонент связности в изображении, значения элеметов матрицы лежат в диапазоне от 1 до num, элементам фона присваивается значение 0."
   ]
  },
  {
   "cell_type": "code",
   "execution_count": null,
   "metadata": {},
   "outputs": [],
   "source": [
    "labels, num = measure.label(threshold, return_num=True)\n",
    "plt.imshow(labels, cmap='gray')"
   ]
  },
  {
   "cell_type": "markdown",
   "metadata": {},
   "source": [
    "Для каждой компоненты связности построим выпуклую оболочку"
   ]
  },
  {
   "cell_type": "code",
   "execution_count": null,
   "metadata": {},
   "outputs": [],
   "source": [
    "convex_img = np.zeros(threshold.shape)\n",
    "for i in range(1, num + 1):\n",
    "    convex_img += (morphology.convex_hull_image(labels == i)).astype(np.int64)\n",
    "plt.imshow(convex_img, cmap='gray')"
   ]
  },
  {
   "cell_type": "markdown",
   "metadata": {},
   "source": [
    "Чтобы сгладить неровности по краям, применим операцию эрозии. На форму шестиугольников это не повлияет."
   ]
  },
  {
   "cell_type": "code",
   "execution_count": null,
   "metadata": {},
   "outputs": [],
   "source": [
    "convex_img = morphology.erosion(convex_img, morphology.star(5))\n",
    "convex_img = (convex_img * 255).astype(np.uint8)\n",
    "plt.imshow(convex_img, cmap='gray')"
   ]
  },
  {
   "cell_type": "markdown",
   "metadata": {},
   "source": [
    "Теперь, когда границы фигур сглажены, можно применить операцию распознавания контуров."
   ]
  },
  {
   "cell_type": "code",
   "execution_count": null,
   "metadata": {},
   "outputs": [],
   "source": [
    "cnts = cv2.findContours(convex_img.copy(), cv2.RETR_EXTERNAL, cv2.CHAIN_APPROX_SIMPLE)[1]"
   ]
  },
  {
   "cell_type": "markdown",
   "metadata": {},
   "source": [
    "Начнем обрабатывать полученные контуры:"
   ]
  },
  {
   "cell_type": "code",
   "execution_count": null,
   "metadata": {},
   "outputs": [],
   "source": [
    "obj_list = []  # в список будем вносить массивы вершин шестиугольников\n",
    "img_color_copy = img_color.copy()\n",
    "for c in cnts:  # цикл по всем найденным контурам\n",
    "    peri = cv2.arcLength(c, True)  # вычислим периметр фигуры\n",
    "    if(peri > 100):  # если фигура не слишком маленькая, чтобы быть фишкой\n",
    "        approx = cv2.approxPolyDP(c, 0.025 * peri, True)  # аппроксимируем границы\n",
    "        # возвращаемое значение функции - массив угловых точек фигуры\n",
    "        flag = True \n",
    "        if(len(approx) == 6):  # если углов у фигуры 6, то перейдем к дальнейшему рассмотрению\n",
    "            edges_list = []  # приведем координаты вершин к более удобному формату\n",
    "            for i in range(6):\n",
    "                edges_list.append([approx[i][0, 0], approx[i][0, 1]])\n",
    "            edges_list = np.array(edges_list)\n",
    "            for i in range(1, 7):\n",
    "                dot_1 = edges_list[i % 6]\n",
    "                dot_0 = edges_list[(i - 1) % 6]\n",
    "                if np.abs(eucl_dist(dot_1, dot_0) - peri / 6) > 0.1 * peri:\n",
    "                # объект может являться фишкой, если длина каждой из шести его сторон \n",
    "                # примерно равна 1/6 периметра\n",
    "                    flag = False\n",
    "            if flag:  # если все шесть сторон удовлетворяют условию, то считаем объект фишкой\n",
    "                # нанесем контуры и углы найденной фишки на изображение и инкрементируем значение счетчика\n",
    "                cv2.drawContours(img_color_copy, [approx], -1, (255, 0, 0), 4)\n",
    "                for n, i in enumerate(approx):\n",
    "                    cv2.circle(img_color_copy, (i[0, 0], i[0, 1]), 3, (0,0,255), -1)\n",
    "                obj_list.append(np.array(edges_list).copy())\n",
    "show_plt(img_color_copy)        "
   ]
  },
  {
   "cell_type": "code",
   "execution_count": null,
   "metadata": {},
   "outputs": [],
   "source": [
    "# массив коэффициентов, применяющийся при поиске точки, лежащей внутри цветного сегмента на фишке\n",
    "coeff_arr = np.array([[0.5, 0.5, 1.0, 0.0], \n",
    "                       [0.5, 0.5, 0.9, 0.1],\n",
    "                       [0.4, 0.6, 1.0, 0.0],\n",
    "                       [0.6, 0.4, 1.0, 0.0],\n",
    "                      [0.4, 0.6, 0.9, 0.1],\n",
    "                      [0.6, 0.4, 0.9, 0.1]\n",
    "                     ])"
   ]
  },
  {
   "cell_type": "code",
   "execution_count": null,
   "metadata": {},
   "outputs": [],
   "source": [
    "img_color_copy = img_color.copy()\n",
    "for object in obj_list:\n",
    "    col_list = [[] for i in range(3)]\n",
    "    dot_list = []\n",
    "    center = np.mean(object, axis=0)\n",
    "    for i in range(1, 7):  # цикл по 6-ти ребрам фигуры\n",
    "        num_try = 0\n",
    "        # проверяем, пока не попадем в точку, цвет в которой не будет похож на черный\n",
    "        while((num_try == 0 or get_color(curr_col) == 3) and num_try < coeff_arr.shape[0]):\n",
    "            # ищем точку примерно в центре ребра\n",
    "            edge_center = (coeff_arr[num_try, 0] * object[i % 6] + \n",
    "                           coeff_arr[num_try, 1] * object[i - 1]\n",
    "                          ).astype(np.uint64)\n",
    "            # немного сдвигаемся к центру фишки\n",
    "            curr_dot = (coeff_arr[num_try, 2] * edge_center + \n",
    "                        coeff_arr[num_try, 3] * center).astype(np.uint64)\n",
    "            # фиксируем цвет найденной точки\n",
    "            curr_col = img_color[curr_dot[1]][curr_dot[0]]\n",
    "            num_try += 1\n",
    "        if(num_try == coeff_arr.shape[0]):\n",
    "            # если перебрали все точки из указанного в массиве диапазона, но цвет в каждой из них близок\n",
    "            # к черному, то предположим, что через данное ребро проходит синяя линия\n",
    "            # это кажется логичным, тк синий цвет наиболее близок к черному, а в случае ошибки в списках \n",
    "            # распределения точек по цветам окажется отличное от 2 число элементов, и это будет исправлено \n",
    "            # на следующем шаге алгоритма\n",
    "            col_ind = 1\n",
    "        else:\n",
    "            col_ind = get_color(curr_col)\n",
    "        dot_list.append(curr_dot)\n",
    "        col_list[col_ind].append(i - 1)\n",
    "    dot_list = np.array(dot_list)\n",
    "    # если в списке точек, отнесенных к какому-то цвету, оказалось меньше 2-x, то нужно \n",
    "    # найти наиболее похожего кандидата в списке, в котором больше 2-х элементов,\n",
    "    # и перераспределить точки в списках\n",
    "    # будем повторять процедуру, пока в каждом списке не окажется по 2 точки\n",
    "    loop_flag = True\n",
    "    while(loop_flag):\n",
    "        for i in range(3):\n",
    "            if(len(col_list[i]) < 2):\n",
    "                not_enough = i\n",
    "                loop_flag = False\n",
    "            elif(len(col_list[i]) > 2):\n",
    "                too_much = i\n",
    "        if(not loop_flag):\n",
    "            much_dots = dot_list[col_list[too_much]]\n",
    "            dist_list = []\n",
    "            for dot in much_dots:\n",
    "                dist_list.append(eucl_dist(img_color[dot[1]][dot[0]], col_sample[not_enough]))\n",
    "            ind = np.argmin(np.array(dist_list))\n",
    "            col_list[not_enough].append(col_list[too_much][ind])\n",
    "            col_list[too_much].remove(col_list[too_much][ind])\n",
    "            loop_flag = True\n",
    "        else:\n",
    "            loop_flag = False\n",
    "    col_list = np.array(col_list)\n",
    "    \n",
    "    shape_list = []\n",
    "    for i in range(3):\n",
    "        # для каждого из 3-х цветов найдем число ребер шестиугольника, лежащих между двумя ребрами,\n",
    "        # через которые проходит сегмент этого цвета; это однозначно  определит форму сегмента\n",
    "        diff = min(col_list[i, 1] - col_list[i, 0], col_list[i, 0] + 6 - col_list[i, 1])\n",
    "        shape_list.append(diff)\n",
    "    # в соответствии с приведенным массивом по форме сегментов 3-х цветов определим номер фишки\n",
    "    shape_num = np.argmax(np.sum(np.logical_not(shapes_sample - shape_list), axis=1)) + 1\n",
    "    if(shape_num == 8):\n",
    "        shape_num = 9\n",
    "    if(shape_num == 1):\n",
    "        col_list = (col_list + (6 - col_list[2, 0])) % 6\n",
    "        if(np.min(col_list[0, :]) > np.min(col_list[1, :])): \n",
    "            # если начало красного сегмента имеет больший номер, чем начало синего\n",
    "            shape_num = 10\n",
    "    if(shape_num == 7):\n",
    "        col_list = (col_list + (6 - col_list[1, 0])) % 6\n",
    "        if(np.min(col_list[0, :]) > np.min(col_list[2, :])): \n",
    "            # если начало красного сегмента имеет больший номер, чем начало желтого\n",
    "            shape_num = 8\n",
    "            \n",
    "    # отобразим квадрат с номером фишки на копии изображения, если выполняется вторая часть задания\n",
    "    if(part_of_task == 2):\n",
    "        cv2.rectangle(img_color_copy, (object[0, 0], object[0, 1]), (object[0, 0] + 45, object[0, 1] + 45), \n",
    "                      (255,255,255), -1)\n",
    "        cv2.putText(img_color_copy, str(shape_num) ,(object[0, 0] + 5, object[0, 1] + 35), \n",
    "                    cv2.FONT_HERSHEY_SIMPLEX, 1, -1, 2)\n",
    "    else:\n",
    "    # напечатаем найденный номер, если выполняется первая часть задания\n",
    "        print(\"фишка №\", end='')\n",
    "        print(shape_num)\n",
    "if(part_of_task == 2):\n",
    "    show_plt(img_color_copy)"
   ]
  },
  {
   "cell_type": "code",
   "execution_count": null,
   "metadata": {},
   "outputs": [],
   "source": []
  }
 ],
 "metadata": {
  "kernelspec": {
   "display_name": "Python 3",
   "language": "python",
   "name": "python3"
  },
  "language_info": {
   "codemirror_mode": {
    "name": "ipython",
    "version": 3
   },
   "file_extension": ".py",
   "mimetype": "text/x-python",
   "name": "python",
   "nbconvert_exporter": "python",
   "pygments_lexer": "ipython3",
   "version": "3.6.8"
  }
 },
 "nbformat": 4,
 "nbformat_minor": 2
}
